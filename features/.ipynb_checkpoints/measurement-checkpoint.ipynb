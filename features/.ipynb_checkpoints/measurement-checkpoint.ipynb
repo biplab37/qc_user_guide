{
 "cells": [
  {
   "cell_type": "markdown",
   "metadata": {},
   "source": [
    "# Measurements \n",
    "***"
   ]
  },
  {
   "cell_type": "markdown",
   "metadata": {},
   "source": [
    "#### Options\n",
    "1. single gate measure in any basis\n",
    "2. Bell basis measurement\n",
    "3. Ensemble Measurement\n",
    "4. Expectation Measurement"
   ]
  },
  {
   "cell_type": "markdown",
   "metadata": {},
   "source": [
    "### Measurement in any basis"
   ]
  },
  {
   "cell_type": "code",
   "execution_count": 1,
   "metadata": {},
   "outputs": [],
   "source": [
    "from qiskit import *\n",
    "import numpy as np\n",
    "%matplotlib inline"
   ]
  },
  {
   "cell_type": "markdown",
   "metadata": {},
   "source": [
    "#### Example 1"
   ]
  },
  {
   "cell_type": "code",
   "execution_count": 2,
   "metadata": {},
   "outputs": [
    {
     "data": {
      "text/plain": [
       "array([[0.5+0.j, 0. +0.j],\n",
       "       [0. +0.j, 0.5+0.j]])"
      ]
     },
     "execution_count": 2,
     "metadata": {},
     "output_type": "execute_result"
    },
    {
     "name": "stderr",
     "output_type": "stream",
     "text": [
      "Given direction for the measurement was not normalised. It has been normalised to be unit vector!!\n"
     ]
    }
   ],
   "source": [
    "qc = QuantumCircuit(1,1)\n",
    "qc.s(0)\n",
    "qc.measure(0,0,basis='X')\n",
    "backend = BasicAer.get_backend('dm_simulator')\n",
    "run = execute(qc,backend)\n",
    "result = run.result()\n",
    "result['results'][0]['data']['densitymatrix']"
   ]
  },
  {
   "cell_type": "markdown",
   "metadata": {},
   "source": [
    "#### Example 2"
   ]
  },
  {
   "cell_type": "code",
   "execution_count": 3,
   "metadata": {},
   "outputs": [
    {
     "data": {
      "text/plain": [
       "array([[0.82142857+0.j        , 0.10714286-0.21428571j],\n",
       "       [0.10714286+0.21428571j, 0.17857143+0.j        ]])"
      ]
     },
     "execution_count": 3,
     "metadata": {},
     "output_type": "execute_result"
    }
   ],
   "source": [
    "qc = QuantumCircuit(1,1)\n",
    "qc.s(0)\n",
    "qc.measure(0,0, basis='N', add_param=np.array([1,2,3]))         \n",
    "backend = BasicAer.get_backend('dm_simulator')\n",
    "run = execute(qc,backend)\n",
    "result = run.result()\n",
    "result['results'][0]['data']['densitymatrix']"
   ]
  },
  {
   "cell_type": "markdown",
   "metadata": {},
   "source": [
    "### Bell basis measurement"
   ]
  },
  {
   "cell_type": "code",
   "execution_count": 4,
   "metadata": {},
   "outputs": [
    {
     "data": {
      "text/plain": [
       "{'Bell_1': 0.5, 'Bell_2': 0.5, 'Bell_3': 0.0, 'Bell_4': 0.0}"
      ]
     },
     "execution_count": 4,
     "metadata": {},
     "output_type": "execute_result"
    }
   ],
   "source": [
    "qc1 = QuantumCircuit(3,2)\n",
    "qc1.measure(0,0,basis='Bell',add_param='01')\n",
    "options = {\n",
    "    'plot': True\n",
    "}\n",
    "backend = BasicAer.get_backend('dm_simulator')\n",
    "run = execute(qc1,backend,**options)\n",
    "result = run.result()\n",
    "result['results'][0]['data']['bell_probabilities01']"
   ]
  },
  {
   "cell_type": "markdown",
   "metadata": {},
   "source": [
    "### Ensemble Measurement"
   ]
  },
  {
   "cell_type": "code",
   "execution_count": 5,
   "metadata": {},
   "outputs": [],
   "source": [
    "qc2 = QuantumCircuit(3,3)\n",
    "qc2.h(0)\n",
    "qc2.cx(0,1)\n",
    "qc2.cx(1,2)\n",
    "qc2.measure(0,0,basis='Ensemble',add_param='X')\n",
    "backend = BasicAer.get_backend('dm_simulator')\n",
    "options = {\n",
    "    'plot': True\n",
    "}\n",
    "run = execute(qc2,backend,**options)"
   ]
  },
  {
   "cell_type": "markdown",
   "metadata": {},
   "source": [
    "### Expectation Measure"
   ]
  },
  {
   "cell_type": "code",
   "execution_count": 6,
   "metadata": {},
   "outputs": [
    {
     "data": {
      "text/plain": [
       "1.0"
      ]
     },
     "execution_count": 6,
     "metadata": {},
     "output_type": "execute_result"
    }
   ],
   "source": [
    "qc2 = QuantumCircuit(3,3)\n",
    "qc2.h(0)\n",
    "qc2.cx(0,1)\n",
    "qc2.cx(1,2)\n",
    "qc2.measure(0,0,basis='Expect',add_param='ZIZ')\n",
    "backend = BasicAer.get_backend('dm_simulator')\n",
    "run = execute(qc2,backend)\n",
    "result = run.result()\n",
    "result['results'][0]['data']['Pauli_string_expectation']"
   ]
  }
 ],
 "metadata": {
  "kernelspec": {
   "display_name": "Python 3",
   "language": "python",
   "name": "python3"
  },
  "language_info": {
   "codemirror_mode": {
    "name": "ipython",
    "version": 3
   },
   "file_extension": ".py",
   "mimetype": "text/x-python",
   "name": "python",
   "nbconvert_exporter": "python",
   "pygments_lexer": "ipython3",
   "version": "3.7.3"
  }
 },
 "nbformat": 4,
 "nbformat_minor": 4
}
